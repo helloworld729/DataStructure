{
 "cells": [
  {
   "cell_type": "code",
   "execution_count": 210,
   "metadata": {},
   "outputs": [],
   "source": [
    "class GraphError(ValueError):\n",
    "    pass"
   ]
  },
  {
   "cell_type": "code",
   "execution_count": 211,
   "metadata": {},
   "outputs": [],
   "source": [
    "class Graph():\n",
    "    def __init__(self, mat, unconn=0):\n",
    "        vnum = len(mat)\n",
    "        for x in mat:\n",
    "            if len(x) != vnum:\n",
    "                raise ValueError(\"Arguments for Graph.\")\n",
    "        self._mat = mat\n",
    "        self._unconn = unconn\n",
    "        self._vnum = vnum\n",
    "        \n",
    "    def vertex_num(self):\n",
    "        \"\"\"结点数目\"\"\"\n",
    "        return self._vnum\n",
    "    \n",
    "    def is_invalid(self, v):\n",
    "        \"\"\"合法性检查\"\"\"\n",
    "#         print(v, self._vnum)\n",
    "        return v < 0 or v >= self._vnum\n",
    "    \n",
    "    def add_vertex(self):\n",
    "        \"\"\"增加结点\"\"\"\n",
    "        raise GraphError(\"not support...\")\n",
    "        \n",
    "    def add_edge(self, vi, vj, val=1):\n",
    "        \"\"\"创建边\"\"\"\n",
    "        if self.is_invalid(vi) or self.is_invalid(vj):\n",
    "            raise GraphError('vi or vj is invalid')\n",
    "        self._mat[i][j] = val\n",
    "    \n",
    "    def get_edge(self, vi, vj):\n",
    "        \"\"\"根据索引获取边的信息\"\"\"\n",
    "        if self.is_invalid(vi) or self.is_invalid(vj):\n",
    "            raise GraphError('vi or vj is invalid')\n",
    "        return self._mat[vi][vj]\n",
    "    \n",
    "    def __str__(self):\n",
    "        return \"[\\n\" + \",\\n\".join(map(str, self._mat)) + \"\\n]\" +  \"\\nunconn: \" + str(self._unconn)\n",
    "              \n",
    "    \n",
    "    def out_edges(self, vi):\n",
    "        \"\"\"返回某个节点对应的边的信息\"\"\"\n",
    "        if self.is_invalid(vi):\n",
    "            raise GraphError('vi or vj is invalid')\n",
    "        return self._out_edges(self._mat[vi], self._unconn)\n",
    "    \n",
    "    @staticmethod\n",
    "    def _out_edges(row, unconn=0):\n",
    "        edges = []\n",
    "        for i in range(len(row)):\n",
    "            if row[i] != unconn:\n",
    "                edges.append((i, row[i]))\n",
    "        return edges\n",
    "    "
   ]
  },
  {
   "cell_type": "code",
   "execution_count": 265,
   "metadata": {},
   "outputs": [],
   "source": [
    "class GraphAL(Graph):\n",
    "    def __init__(self, mat=[], unconn=0):\n",
    "        vnum = len(mat)\n",
    "        for row in mat:\n",
    "            if len(row) != vnum:\n",
    "                raise GraphError('初始化不是方阵')\n",
    "        self._mat = [self._out_edges(mat[i], 0) for i in range(vnum)]\n",
    "        self._vnum = vnum\n",
    "        self._unconn = unconn\n",
    "        self.DFS_seqs = []\n",
    "    \n",
    "    def add_vertex(self):\n",
    "        self._mat.append([])\n",
    "        self._vnum += 1\n",
    "        return self._vnum - 1 # 返回新增结点编号（从0开始）\n",
    "    \n",
    "    def add_edge(self, vi, vj, val=1):\n",
    "        \"\"\"更新/增加边\"\"\"\n",
    "        if not self.is_invalid(vi) and not self.is_invalid(vj):            \n",
    "            row = self._mat[vi]\n",
    "            i = 0\n",
    "            while i < len(row):\n",
    "                if vj == row[i][0]:  # 已经作为目标结点存在，更新信息\n",
    "                    self._mat[vi][i] = (vj, val)  # 边更新\n",
    "                    return\n",
    "                if vj < i:  # 没有该结点\n",
    "                    break\n",
    "                i += 1\n",
    "            self._mat[vi].insert(i, (vj, val))  # 边创建\n",
    "        else:\n",
    "            raise GraphError(\"结点非法\")\n",
    "    \n",
    "    def get_edge(self, vi, vj):\n",
    "        \"\"\"获取两点之间边的权重\"\"\"\n",
    "        if self.is_invalid(vi) or self.is_invalid(vi):\n",
    "            raise GraphError('结点非法')\n",
    "        for con_info in self._mat[vi]:\n",
    "            if con_info[0] == vj:\n",
    "                return con_info[1]\n",
    "        return self._unconn\n",
    "    \n",
    "    def out_edges(self, vi):\n",
    "        \"\"\"返回能结点的所有关联边\"\"\"\n",
    "        if self.is_invalid(vi):\n",
    "            raise GraphError(\"结点非法\")\n",
    "        return self._mat[vi]\n",
    "    \n",
    "    def DFS_graph(self, v0):\n",
    "        \"\"\"非递归深度优先\"\"\"\n",
    "        \"\"\"问题：树的分割\"\"\"\n",
    "        visited = [0] * self._vnum  # 访问过的结点记录\n",
    "        visited[v0] = 1\n",
    "        DFS_seq = [v0]  # v0作为第一个访问过的节点\n",
    "        \n",
    "        st = []  # 此处当做堆栈使用\n",
    "        st.append((0, self.out_edges(v0)))  # 接下来要从边表访问的点在边表中的索引， 边表\n",
    "        while st:\n",
    "            i, edges = st.pop()\n",
    "            if i < len(edges):  # \n",
    "                v, e = edges[i]  # 邻接点和边信息\n",
    "                st.append((i+1, edges)) # 同一边表中下一次要访问的点\n",
    "                \n",
    "                if not visited[v]:\n",
    "                    visited[v] = 1\n",
    "                    DFS_seq.append(v)\n",
    "                    st.append((0, self.out_edges(v)))  # 深度推进\n",
    "        \n",
    "        return DFS_seq\n",
    "    \n",
    "    def DFS_recur(self, v,):  # 关于递归可以考虑更多的做法，例如利用列表浅拷贝，不用return\n",
    "        \"\"\"基于递归的深度优先\"\"\"\n",
    "        DFS_seqs, visited = [], []\n",
    "        \n",
    "        def dfs(v, DFS_seq, visited):\n",
    "            if v not in visited:  # 处理办法\n",
    "                DFS_seqs.append(v)\n",
    "                visited.append(v)\n",
    "            edges = self.out_edges(v)  # 边表\n",
    "            vertexs = [e[0] for e in edges]   # 具体的邻接点\n",
    "            diff = [v for v in vertexs if v not in visited]  # 还没有访问过的邻接点列表\n",
    "            if not diff:  # 边界条件\n",
    "                return        \n",
    "            for v in diff:  # 递归推进\n",
    "                dfs(v, DFS_seqs, visited)\n",
    "            return DFS_seqs\n",
    "        return dfs(v, DFS_seqs, visited)\n",
    "    \n",
    "    def DFS_span_forest(self):\n",
    "        \"\"\"深度遍历生成树\"\"\"\n",
    "        span_forest = [None] * self._vnum\n",
    "        \n",
    "        def dfs(self, v):  # 递归遍历函数，在递归中记录经由边\n",
    "            nonlocal span_forest\n",
    "            for u, w in self.out_edges(v):  # (目标点， 权重)\n",
    "                if span_forest[u] is None:\n",
    "                    span_forest[u] = (v, w)\n",
    "                    dfs(self, u)\n",
    "                    \n",
    "        for v in range(self._vnum):  # 考虑非联通???\n",
    "            if span_forest[v] is None:\n",
    "                span_forest[v] = (v, 0)  # 边信息为0，树根结点（前一节点）\n",
    "                dfs(self, v)\n",
    "        return span_forest\n",
    "    \n",
    "    def Kruskal(self):\n",
    "        \"\"\"最小生成树算法-花最小的的代价和平统一\"\"\"\n",
    "        vnum = self._vnum\n",
    "        reps = [i for i in range(vnum)]  # 元素身份证\n",
    "        mst, edges = [], []  # 最小生成树， 边集合\n",
    "        \n",
    "        for vi in range(vnum):              # 边表统计\n",
    "            for vj, w in self.out_edges(vi): # 目标点、权重\n",
    "                edges.append((w, vi, vj))     # 权重、源点、终点\n",
    "        edges.sort()\n",
    "        \n",
    "        for w, vi, vj in edges:\n",
    "            if reps[vi] != reps[vj]:  # 检独\n",
    "                mst.append(((vi, vj), w))  # 和平统一\n",
    "                if len(mst) == vnum - 1:  # 边界条件-大一统\n",
    "                    break\n",
    "                rep, orep = reps[vi], reps[vj]\n",
    "                for i in range(vnum):  # 发新身份证\n",
    "                    if reps[i] == orep:\n",
    "                        reps[i] = rep\n",
    "        return mst\n",
    "    \n",
    "    def Prim(self):\n",
    "        vnum = self._vnum\n",
    "        mst = [None] * vnum\n",
    "        cans = [(0,0,0)]  # 记录候选边（w, vi, vj）\n",
    "        count = 0  # 当前连通区节点数量\n",
    "        \n",
    "        while count < vnum and cans:\n",
    "            w, vi, vj = cans.pop()  # 取当时最小边\n",
    "            if mst[vj]:  # 如果目标点已经是自己人\n",
    "                continue  # 跳过\n",
    "            mst[vj]=((vi, vj),w)  # u是当前连通区、v是目标连通区，记录前一节点-本节点(第一次会把000写入)\n",
    "            count += 1\n",
    "            \n",
    "            for vnew, w in self.out_edges(vj):\n",
    "                if not mst[vnew]:\n",
    "                    cans.append((w, vj, vnew))\n",
    "            cans.sort(reverse=True)  # 根据权重降序\n",
    "        return mst\n",
    "    \n",
    "    def dijkstra(self, v0):\n",
    "        vnum = self._vnum\n",
    "        paths = [(v0, 0)] + [None] * (vnum-1) # （前一节点， 最短路径长度）元组列表\n",
    "        cans = [(0,v0)]  # 记录候选边（路径长度，前一节点， 后一节点）\n",
    "        count = 0  # 当前连通区节点数量\n",
    "        \n",
    "        while count < vnum and cans:\n",
    "            plen, vi = cans.pop()  # 到v0的路径长度和对应的当前节点\n",
    "            for vj, w in self.out_edges(vi):\n",
    "                if paths[vj] and paths[vj][1] < w + paths[vi][1]:\n",
    "                    continue\n",
    "                paths[vj] = (vi, w+paths[vi][1])\n",
    "                cans.append((w+paths[vi][1], vj))\n",
    "            cans.sort(reverse=True)\n",
    "        return paths\n",
    "        \n",
    "        \n",
    "\n",
    "    \n",
    "    def topo_sort(self):\n",
    "        \"\"\"拓扑排序\"\"\"\n",
    "        vnum = self._vnum\n",
    "        indegree, toposeq = [0] * vnum, []  # 入度表 和 拓扑序列\n",
    "        zerov = -1  # 零度点索引初始化\n",
    "        \n",
    "        for vi in range(vnum):  # 建立初始的入度表\n",
    "            for v, w in self.out_edges(vi):\n",
    "                indegree[v] += 1\n",
    "        print('入度表',indegree)\n",
    "                \n",
    "        for vi in range(vnum):  # 建立初始的零度表\n",
    "            if indegree[vi] == 0:\n",
    "                indegree[vi] = zerov  # 上一零度点索引（由于边表索引隐含为结点，所以也可以理解为结点）\n",
    "                zerov = vi  # 零度索引绑定到自己\n",
    "        print('当前零度点位置', zerov)                \n",
    "                \n",
    "        for n in range(vnum+1):  # 加1是为了达到零点边界条件\n",
    "            if zerov == -1:\n",
    "                return toposeq   # 没有入度为0的点，返回False\n",
    "            vi = zerov  # 当前访问的0度点\n",
    "            zerov = indegree[zerov] # 下一待访问0度点\n",
    "            toposeq.append(vi)\n",
    "\n",
    "            for v, w in self.out_edges(vi):\n",
    "                indegree[v] -= 1  # 关联节点入度减1\n",
    "                if  indegree[v] == 0:\n",
    "                    indegree[v] = zerov  # 指向前面的待访问零度点\n",
    "                    zerov = v"
   ]
  },
  {
   "cell_type": "code",
   "execution_count": 266,
   "metadata": {},
   "outputs": [
    {
     "name": "stdout",
     "output_type": "stream",
     "text": [
      "[\n",
      "[(1, 1), (2, 12)],\n",
      "[(2, 9), (3, 3)],\n",
      "[(4, 5)],\n",
      "[(2, 4), (4, 13), (5, 15)],\n",
      "[(5, 4)],\n",
      "[]\n",
      "]\n",
      "unconn: 0\n"
     ]
    }
   ],
   "source": [
    "mat = [\n",
    "    [0,1,12,0,0,0],\n",
    "    [0,0,9,3,0,0],\n",
    "    [0,0,0,0,5,0],\n",
    "    [0,0,4,0,13,15],\n",
    "    [0,0,0,0,0,4],\n",
    "    [0,0,0,0,0,0],\n",
    "]\n",
    "g2 = GraphAL(mat=mat)\n",
    "print(g2)"
   ]
  },
  {
   "cell_type": "code",
   "execution_count": 267,
   "metadata": {},
   "outputs": [
    {
     "name": "stdout",
     "output_type": "stream",
     "text": [
      "[0, 1, 2, 4, 5, 3]\n",
      "[1, 2, 4, 5, 3]\n",
      "[2, 4, 5]\n"
     ]
    }
   ],
   "source": [
    "for i in range(3):\n",
    "    print(g2.DFS_graph(i))"
   ]
  },
  {
   "cell_type": "code",
   "execution_count": 268,
   "metadata": {},
   "outputs": [
    {
     "name": "stdout",
     "output_type": "stream",
     "text": [
      "[0, 1, 2, 4, 5, 3]\n",
      "[1, 2, 4, 5, 3]\n",
      "[2, 4, 5]\n"
     ]
    }
   ],
   "source": [
    "for i in range(3):\n",
    "    g2.DFS_seqs=[]\n",
    "    print(g2.DFS_recur(i))  # 如果不清空的话，jupyter 保存了visited变量"
   ]
  },
  {
   "cell_type": "code",
   "execution_count": 269,
   "metadata": {},
   "outputs": [
    {
     "data": {
      "text/plain": [
       "[(0, 0), (0, 1), (1, 9), (1, 3), (2, 5), (4, 4)]"
      ]
     },
     "execution_count": 269,
     "metadata": {},
     "output_type": "execute_result"
    }
   ],
   "source": [
    "g2.DFS_span_forest()"
   ]
  },
  {
   "cell_type": "code",
   "execution_count": 270,
   "metadata": {},
   "outputs": [
    {
     "data": {
      "text/plain": [
       "[((0, 1), 1), ((1, 3), 3), ((3, 2), 4), ((4, 5), 4), ((2, 4), 5)]"
      ]
     },
     "execution_count": 270,
     "metadata": {},
     "output_type": "execute_result"
    }
   ],
   "source": [
    "g2.Kruskal()"
   ]
  },
  {
   "cell_type": "code",
   "execution_count": 271,
   "metadata": {},
   "outputs": [
    {
     "data": {
      "text/plain": [
       "[((0, 0), 0), ((0, 1), 1), ((3, 2), 4), ((1, 3), 3), ((2, 4), 5), ((4, 5), 4)]"
      ]
     },
     "execution_count": 271,
     "metadata": {},
     "output_type": "execute_result"
    }
   ],
   "source": [
    "g2.Prim()"
   ]
  },
  {
   "cell_type": "code",
   "execution_count": 272,
   "metadata": {},
   "outputs": [
    {
     "data": {
      "text/plain": [
       "[(0, 0), (0, 1), (3, 8), (1, 4), (2, 13), (4, 17)]"
      ]
     },
     "execution_count": 272,
     "metadata": {},
     "output_type": "execute_result"
    }
   ],
   "source": [
    "g2.dijkstra(0)  # 前一节点，最短路径元组"
   ]
  },
  {
   "cell_type": "code",
   "execution_count": 273,
   "metadata": {
    "scrolled": true
   },
   "outputs": [
    {
     "name": "stdout",
     "output_type": "stream",
     "text": [
      "入度表 [0, 1, 3, 1, 2, 2]\n",
      "当前零度点位置 0\n",
      "[0, 1, 3, 2, 4, 5]\n"
     ]
    }
   ],
   "source": [
    "print(g2.topo_sort())"
   ]
  },
  {
   "cell_type": "code",
   "execution_count": null,
   "metadata": {},
   "outputs": [],
   "source": []
  },
  {
   "cell_type": "code",
   "execution_count": 25,
   "metadata": {},
   "outputs": [
    {
     "name": "stdout",
     "output_type": "stream",
     "text": [
      "[5, 2]\n"
     ]
    }
   ],
   "source": [
    "def fun(x):\n",
    "    x[0] = 5\n",
    "a= [1,2]\n",
    "fun(a)\n",
    "print(a)"
   ]
  },
  {
   "cell_type": "code",
   "execution_count": 92,
   "metadata": {},
   "outputs": [],
   "source": [
    "a = [(1, 0, 1), (2, 0, 2), (1, 0, 3)]"
   ]
  },
  {
   "cell_type": "code",
   "execution_count": 93,
   "metadata": {},
   "outputs": [
    {
     "data": {
      "text/plain": [
       "[(1, 0, 1), (1, 0, 3), (2, 0, 2)]"
      ]
     },
     "execution_count": 93,
     "metadata": {},
     "output_type": "execute_result"
    }
   ],
   "source": [
    "sorted(a)"
   ]
  },
  {
   "cell_type": "code",
   "execution_count": 144,
   "metadata": {},
   "outputs": [],
   "source": [
    "a = (1,2)"
   ]
  },
  {
   "cell_type": "code",
   "execution_count": 145,
   "metadata": {},
   "outputs": [
    {
     "data": {
      "text/plain": [
       "2"
      ]
     },
     "execution_count": 145,
     "metadata": {},
     "output_type": "execute_result"
    }
   ],
   "source": [
    "a[1]"
   ]
  },
  {
   "cell_type": "code",
   "execution_count": null,
   "metadata": {},
   "outputs": [],
   "source": []
  }
 ],
 "metadata": {
  "kernelspec": {
   "display_name": "Python 3",
   "language": "python",
   "name": "python3"
  },
  "language_info": {
   "codemirror_mode": {
    "name": "ipython",
    "version": 3
   },
   "file_extension": ".py",
   "mimetype": "text/x-python",
   "name": "python",
   "nbconvert_exporter": "python",
   "pygments_lexer": "ipython3",
   "version": "3.6.2"
  }
 },
 "nbformat": 4,
 "nbformat_minor": 4
}
